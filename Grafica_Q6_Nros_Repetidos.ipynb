{
 "cells": [
  {
   "cell_type": "code",
   "execution_count": null,
   "metadata": {
    "collapsed": true
   },
   "outputs": [],
   "source": [
    "import random\n",
    "from collections import Counter\n",
    "import plotly.graph_objs as go\n",
    "from plotly.subplots import make_subplots\n",
    "\n",
    "sets_generados = []\n",
    "repetidos = []\n",
    "numeros_repetidos = []\n",
    "\n",
    "while len(repetidos) < 10:\n",
    "    nuevo_set = set(random.sample(range(0, 47), 6))\n",
    "    if nuevo_set in sets_generados:\n",
    "        repetidos.append(nuevo_set)\n",
    "    else:\n",
    "        sets_generados.append(nuevo_set)\n",
    "\n",
    "for num in range(0, 47):\n",
    "    freq = Counter([n for s in repetidos for n in s])[num]\n",
    "    if freq > 0:\n",
    "        numeros_repetidos.append((num, freq))\n",
    "\n",
    "numeros_repetidos = sorted(numeros_repetidos, key=lambda x: x[1], reverse=True)\n",
    "\n",
    "x = [str(num) for num, freq in numeros_repetidos]\n",
    "y = [freq for num, freq in numeros_repetidos]\n",
    "\n",
    "fig = make_subplots(rows=1, cols=1)\n",
    "\n",
    "fig.add_trace(\n",
    "    go.Bar(x=x, y=y),\n",
    "    row=1, col=1\n",
    ")\n",
    "\n",
    "fig.update_layout(title='Frecuencia de números que se repiten en 10 conjuntos aleatorios',\n",
    "                  xaxis_title='Número',\n",
    "                  yaxis_title='Frecuencia')\n",
    "\n",
    "fig.show()\n"
   ]
  }
 ],
 "metadata": {
  "kernelspec": {
   "display_name": "Python 3",
   "language": "python",
   "name": "python3"
  },
  "language_info": {
   "codemirror_mode": {
    "name": "ipython",
    "version": 2
   },
   "file_extension": ".py",
   "mimetype": "text/x-python",
   "name": "python",
   "nbconvert_exporter": "python",
   "pygments_lexer": "ipython2",
   "version": "2.7.6"
  }
 },
 "nbformat": 4,
 "nbformat_minor": 0
}
